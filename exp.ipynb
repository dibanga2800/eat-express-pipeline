{
 "cells": [
  {
   "cell_type": "code",
   "execution_count": 9,
   "id": "8e069d94",
   "metadata": {},
   "outputs": [],
   "source": [
    "import pandas as pd\n",
    "import re\n",
    "import apache_beam as beam"
   ]
  },
  {
   "cell_type": "code",
   "execution_count": 7,
   "id": "1d7cb21b",
   "metadata": {},
   "outputs": [
    {
     "data": {
      "application/vnd.microsoft.datawrangler.viewer.v0+json": {
       "columns": [
        {
         "name": "index",
         "rawType": "int64",
         "type": "integer"
        },
        {
         "name": "Customer_id",
         "rawType": "object",
         "type": "string"
        },
        {
         "name": "date",
         "rawType": "object",
         "type": "string"
        },
        {
         "name": "time",
         "rawType": "object",
         "type": "string"
        },
        {
         "name": "order_id",
         "rawType": "object",
         "type": "string"
        },
        {
         "name": "items",
         "rawType": "object",
         "type": "string"
        },
        {
         "name": "amount",
         "rawType": "int64",
         "type": "integer"
        },
        {
         "name": "mode",
         "rawType": "object",
         "type": "string"
        },
        {
         "name": "restaurnt",
         "rawType": "object",
         "type": "string"
        },
        {
         "name": "Status",
         "rawType": "object",
         "type": "string"
        },
        {
         "name": "ratings",
         "rawType": "int64",
         "type": "integer"
        },
        {
         "name": "feedback",
         "rawType": "object",
         "type": "string"
        }
       ],
       "ref": "e9e74805-72c6-4079-b6d0-5dde46b6791f",
       "rows": [
        [
         "0",
         "JXJY167254JK",
         "11/10/2023",
         "8.31.21",
         "654S654",
         "PiZza:Marga?ritA:WATERZOOI:Crispy Onion Rings",
         "21",
         "Wallet",
         "Brussels Mussels ",
         "Delivered",
         "2",
         "Late delivery"
        ],
        [
         "1",
         "JXJY167254JK",
         "11/10/2023",
         "9.31.21",
         "2444454",
         "Noodles:Pizza:BREAD",
         "97",
         "Card",
         "Saint German",
         "Delivered",
         "3",
         "Stale food"
        ],
        [
         "2",
         "XVTR474839TP",
         "11/10/2023",
         "4.31.31",
         "397T397",
         "Fried Rice:salaD",
         "46",
         "Card",
         "Brussels Mussels ",
         "Delivered",
         "3",
         "Complicated procedure"
        ],
        [
         "3",
         "UFDF355524DM",
         "11/10/2023",
         "5.31.21",
         "428K428",
         "noo%dles:",
         "71",
         "Card",
         "Gaspar's",
         "Delivered",
         "1",
         "Food not good"
        ],
        [
         "4",
         "FRBT691245BA",
         "11/10/2023",
         "6.31.21",
         "437M437",
         "Soup of the day:",
         "29",
         "Online",
         "Sushi Masters",
         "Delivered",
         "1",
         "Stale food"
        ]
       ],
       "shape": {
        "columns": 11,
        "rows": 5
       }
      },
      "text/html": [
       "<div>\n",
       "<style scoped>\n",
       "    .dataframe tbody tr th:only-of-type {\n",
       "        vertical-align: middle;\n",
       "    }\n",
       "\n",
       "    .dataframe tbody tr th {\n",
       "        vertical-align: top;\n",
       "    }\n",
       "\n",
       "    .dataframe thead th {\n",
       "        text-align: right;\n",
       "    }\n",
       "</style>\n",
       "<table border=\"1\" class=\"dataframe\">\n",
       "  <thead>\n",
       "    <tr style=\"text-align: right;\">\n",
       "      <th></th>\n",
       "      <th>Customer_id</th>\n",
       "      <th>date</th>\n",
       "      <th>time</th>\n",
       "      <th>order_id</th>\n",
       "      <th>items</th>\n",
       "      <th>amount</th>\n",
       "      <th>mode</th>\n",
       "      <th>restaurnt</th>\n",
       "      <th>Status</th>\n",
       "      <th>ratings</th>\n",
       "      <th>feedback</th>\n",
       "    </tr>\n",
       "  </thead>\n",
       "  <tbody>\n",
       "    <tr>\n",
       "      <th>0</th>\n",
       "      <td>JXJY167254JK</td>\n",
       "      <td>11/10/2023</td>\n",
       "      <td>8.31.21</td>\n",
       "      <td>654S654</td>\n",
       "      <td>PiZza:Marga?ritA:WATERZOOI:Crispy Onion Rings</td>\n",
       "      <td>21</td>\n",
       "      <td>Wallet</td>\n",
       "      <td>Brussels Mussels</td>\n",
       "      <td>Delivered</td>\n",
       "      <td>2</td>\n",
       "      <td>Late delivery</td>\n",
       "    </tr>\n",
       "    <tr>\n",
       "      <th>1</th>\n",
       "      <td>JXJY167254JK</td>\n",
       "      <td>11/10/2023</td>\n",
       "      <td>9.31.21</td>\n",
       "      <td>2444454</td>\n",
       "      <td>Noodles:Pizza:BREAD</td>\n",
       "      <td>97</td>\n",
       "      <td>Card</td>\n",
       "      <td>Saint German</td>\n",
       "      <td>Delivered</td>\n",
       "      <td>3</td>\n",
       "      <td>Stale food</td>\n",
       "    </tr>\n",
       "    <tr>\n",
       "      <th>2</th>\n",
       "      <td>XVTR474839TP</td>\n",
       "      <td>11/10/2023</td>\n",
       "      <td>4.31.31</td>\n",
       "      <td>397T397</td>\n",
       "      <td>Fried Rice:salaD</td>\n",
       "      <td>46</td>\n",
       "      <td>Card</td>\n",
       "      <td>Brussels Mussels</td>\n",
       "      <td>Delivered</td>\n",
       "      <td>3</td>\n",
       "      <td>Complicated procedure</td>\n",
       "    </tr>\n",
       "    <tr>\n",
       "      <th>3</th>\n",
       "      <td>UFDF355524DM</td>\n",
       "      <td>11/10/2023</td>\n",
       "      <td>5.31.21</td>\n",
       "      <td>428K428</td>\n",
       "      <td>noo%dles:</td>\n",
       "      <td>71</td>\n",
       "      <td>Card</td>\n",
       "      <td>Gaspar's</td>\n",
       "      <td>Delivered</td>\n",
       "      <td>1</td>\n",
       "      <td>Food not good</td>\n",
       "    </tr>\n",
       "    <tr>\n",
       "      <th>4</th>\n",
       "      <td>FRBT691245BA</td>\n",
       "      <td>11/10/2023</td>\n",
       "      <td>6.31.21</td>\n",
       "      <td>437M437</td>\n",
       "      <td>Soup of the day:</td>\n",
       "      <td>29</td>\n",
       "      <td>Online</td>\n",
       "      <td>Sushi Masters</td>\n",
       "      <td>Delivered</td>\n",
       "      <td>1</td>\n",
       "      <td>Stale food</td>\n",
       "    </tr>\n",
       "  </tbody>\n",
       "</table>\n",
       "</div>"
      ],
      "text/plain": [
       "    Customer_id        date     time order_id  \\\n",
       "0  JXJY167254JK  11/10/2023  8.31.21  654S654   \n",
       "1  JXJY167254JK  11/10/2023  9.31.21  2444454   \n",
       "2  XVTR474839TP  11/10/2023  4.31.31  397T397   \n",
       "3  UFDF355524DM  11/10/2023  5.31.21  428K428   \n",
       "4  FRBT691245BA  11/10/2023  6.31.21  437M437   \n",
       "\n",
       "                                           items  amount    mode  \\\n",
       "0  PiZza:Marga?ritA:WATERZOOI:Crispy Onion Rings      21  Wallet   \n",
       "1                            Noodles:Pizza:BREAD      97    Card   \n",
       "2                               Fried Rice:salaD      46    Card   \n",
       "3                                      noo%dles:      71    Card   \n",
       "4                               Soup of the day:      29  Online   \n",
       "\n",
       "           restaurnt     Status  ratings               feedback  \n",
       "0  Brussels Mussels   Delivered        2          Late delivery  \n",
       "1       Saint German  Delivered        3             Stale food  \n",
       "2  Brussels Mussels   Delivered        3  Complicated procedure  \n",
       "3           Gaspar's  Delivered        1          Food not good  \n",
       "4      Sushi Masters  Delivered        1             Stale food  "
      ]
     },
     "execution_count": 7,
     "metadata": {},
     "output_type": "execute_result"
    }
   ],
   "source": [
    "df = pd.read_csv('food_daily.csv')\n",
    "df.head()"
   ]
  },
  {
   "cell_type": "code",
   "execution_count": 10,
   "id": "969bf50f",
   "metadata": {},
   "outputs": [
    {
     "data": {
      "text/plain": [
       "Index(['Customer_id', 'date', 'time', 'order_id', 'items', 'amount', 'mode',\n",
       "       'restaurnt', 'Status', 'ratings', 'feedback'],\n",
       "      dtype='object')"
      ]
     },
     "execution_count": 10,
     "metadata": {},
     "output_type": "execute_result"
    }
   ],
   "source": [
    "df.columns"
   ]
  },
  {
   "cell_type": "code",
   "execution_count": 11,
   "id": "ac4fad9d",
   "metadata": {},
   "outputs": [
    {
     "data": {
      "application/vnd.microsoft.datawrangler.viewer.v0+json": {
       "columns": [
        {
         "name": "index",
         "rawType": "int64",
         "type": "integer"
        },
        {
         "name": "Customer_id",
         "rawType": "object",
         "type": "string"
        },
        {
         "name": "date",
         "rawType": "object",
         "type": "string"
        },
        {
         "name": "time",
         "rawType": "object",
         "type": "string"
        },
        {
         "name": "order_id",
         "rawType": "object",
         "type": "string"
        },
        {
         "name": "items",
         "rawType": "object",
         "type": "string"
        },
        {
         "name": "amount",
         "rawType": "int64",
         "type": "integer"
        },
        {
         "name": "mode",
         "rawType": "object",
         "type": "string"
        },
        {
         "name": "restaurnt",
         "rawType": "object",
         "type": "string"
        },
        {
         "name": "Status",
         "rawType": "object",
         "type": "string"
        },
        {
         "name": "ratings",
         "rawType": "int64",
         "type": "integer"
        },
        {
         "name": "feedback",
         "rawType": "object",
         "type": "string"
        }
       ],
       "ref": "fe0fafbd-f20c-4ea2-8210-c4e33880a3a3",
       "rows": [
        [
         "886",
         "OXJY167254JK",
         "11/10/2023",
         "8.31.21",
         "564J564",
         "salad:",
         "63",
         "Wallet",
         "Demoloftas",
         "Delivered",
         "5",
         "Cheap and best"
        ],
        [
         "887",
         "SAMV824387MW",
         "11/10/2023",
         "8.31.21",
         "149F149",
         "Bread:",
         "31",
         "Cash",
         "Saint German",
         "Delivered",
         "4",
         "Worth"
        ],
        [
         "888",
         "XVTR474839TP",
         "11/10/2023",
         "8.31.21",
         "539I539",
         "meatballs:",
         "51",
         "Online",
         "Demoloftas",
         "Delivered",
         "1",
         "High price"
        ],
        [
         "889",
         "LJBO9511000BL",
         "11/10/2023",
         "8.31.21",
         "215J215",
         "Benedict:",
         "39",
         "Cash",
         "Brussels Mussels ",
         "Delivered",
         "1",
         "Delivery boy didnt come at doorstep"
        ],
        [
         "890",
         "SAMV824387MW",
         "11/10/2023",
         "8.31.21",
         "363Z363",
         "meatballs:",
         "52",
         "Cash",
         "Telegrafas",
         "Delivered",
         "5",
         "Worth"
        ]
       ],
       "shape": {
        "columns": 11,
        "rows": 5
       }
      },
      "text/html": [
       "<div>\n",
       "<style scoped>\n",
       "    .dataframe tbody tr th:only-of-type {\n",
       "        vertical-align: middle;\n",
       "    }\n",
       "\n",
       "    .dataframe tbody tr th {\n",
       "        vertical-align: top;\n",
       "    }\n",
       "\n",
       "    .dataframe thead th {\n",
       "        text-align: right;\n",
       "    }\n",
       "</style>\n",
       "<table border=\"1\" class=\"dataframe\">\n",
       "  <thead>\n",
       "    <tr style=\"text-align: right;\">\n",
       "      <th></th>\n",
       "      <th>Customer_id</th>\n",
       "      <th>date</th>\n",
       "      <th>time</th>\n",
       "      <th>order_id</th>\n",
       "      <th>items</th>\n",
       "      <th>amount</th>\n",
       "      <th>mode</th>\n",
       "      <th>restaurnt</th>\n",
       "      <th>Status</th>\n",
       "      <th>ratings</th>\n",
       "      <th>feedback</th>\n",
       "    </tr>\n",
       "  </thead>\n",
       "  <tbody>\n",
       "    <tr>\n",
       "      <th>886</th>\n",
       "      <td>OXJY167254JK</td>\n",
       "      <td>11/10/2023</td>\n",
       "      <td>8.31.21</td>\n",
       "      <td>564J564</td>\n",
       "      <td>salad:</td>\n",
       "      <td>63</td>\n",
       "      <td>Wallet</td>\n",
       "      <td>Demoloftas</td>\n",
       "      <td>Delivered</td>\n",
       "      <td>5</td>\n",
       "      <td>Cheap and best</td>\n",
       "    </tr>\n",
       "    <tr>\n",
       "      <th>887</th>\n",
       "      <td>SAMV824387MW</td>\n",
       "      <td>11/10/2023</td>\n",
       "      <td>8.31.21</td>\n",
       "      <td>149F149</td>\n",
       "      <td>Bread:</td>\n",
       "      <td>31</td>\n",
       "      <td>Cash</td>\n",
       "      <td>Saint German</td>\n",
       "      <td>Delivered</td>\n",
       "      <td>4</td>\n",
       "      <td>Worth</td>\n",
       "    </tr>\n",
       "    <tr>\n",
       "      <th>888</th>\n",
       "      <td>XVTR474839TP</td>\n",
       "      <td>11/10/2023</td>\n",
       "      <td>8.31.21</td>\n",
       "      <td>539I539</td>\n",
       "      <td>meatballs:</td>\n",
       "      <td>51</td>\n",
       "      <td>Online</td>\n",
       "      <td>Demoloftas</td>\n",
       "      <td>Delivered</td>\n",
       "      <td>1</td>\n",
       "      <td>High price</td>\n",
       "    </tr>\n",
       "    <tr>\n",
       "      <th>889</th>\n",
       "      <td>LJBO9511000BL</td>\n",
       "      <td>11/10/2023</td>\n",
       "      <td>8.31.21</td>\n",
       "      <td>215J215</td>\n",
       "      <td>Benedict:</td>\n",
       "      <td>39</td>\n",
       "      <td>Cash</td>\n",
       "      <td>Brussels Mussels</td>\n",
       "      <td>Delivered</td>\n",
       "      <td>1</td>\n",
       "      <td>Delivery boy didnt come at doorstep</td>\n",
       "    </tr>\n",
       "    <tr>\n",
       "      <th>890</th>\n",
       "      <td>SAMV824387MW</td>\n",
       "      <td>11/10/2023</td>\n",
       "      <td>8.31.21</td>\n",
       "      <td>363Z363</td>\n",
       "      <td>meatballs:</td>\n",
       "      <td>52</td>\n",
       "      <td>Cash</td>\n",
       "      <td>Telegrafas</td>\n",
       "      <td>Delivered</td>\n",
       "      <td>5</td>\n",
       "      <td>Worth</td>\n",
       "    </tr>\n",
       "  </tbody>\n",
       "</table>\n",
       "</div>"
      ],
      "text/plain": [
       "       Customer_id        date     time order_id       items  amount    mode  \\\n",
       "886   OXJY167254JK  11/10/2023  8.31.21  564J564      salad:      63  Wallet   \n",
       "887   SAMV824387MW  11/10/2023  8.31.21  149F149      Bread:      31    Cash   \n",
       "888   XVTR474839TP  11/10/2023  8.31.21  539I539  meatballs:      51  Online   \n",
       "889  LJBO9511000BL  11/10/2023  8.31.21  215J215   Benedict:      39    Cash   \n",
       "890   SAMV824387MW  11/10/2023  8.31.21  363Z363  meatballs:      52    Cash   \n",
       "\n",
       "             restaurnt     Status  ratings  \\\n",
       "886         Demoloftas  Delivered        5   \n",
       "887       Saint German  Delivered        4   \n",
       "888         Demoloftas  Delivered        1   \n",
       "889  Brussels Mussels   Delivered        1   \n",
       "890         Telegrafas  Delivered        5   \n",
       "\n",
       "                                feedback  \n",
       "886                       Cheap and best  \n",
       "887                                Worth  \n",
       "888                           High price  \n",
       "889  Delivery boy didnt come at doorstep  \n",
       "890                                Worth  "
      ]
     },
     "execution_count": 11,
     "metadata": {},
     "output_type": "execute_result"
    }
   ],
   "source": [
    "df.tail()"
   ]
  },
  {
   "cell_type": "code",
   "execution_count": 12,
   "id": "fa2de929",
   "metadata": {},
   "outputs": [
    {
     "data": {
      "text/plain": [
       "(891, 11)"
      ]
     },
     "execution_count": 12,
     "metadata": {},
     "output_type": "execute_result"
    }
   ],
   "source": [
    "df.shape"
   ]
  },
  {
   "cell_type": "code",
   "execution_count": 13,
   "id": "bedf63df",
   "metadata": {},
   "outputs": [
    {
     "data": {
      "application/vnd.microsoft.datawrangler.viewer.v0+json": {
       "columns": [
        {
         "name": "index",
         "rawType": "object",
         "type": "string"
        },
        {
         "name": "amount",
         "rawType": "float64",
         "type": "float"
        },
        {
         "name": "ratings",
         "rawType": "float64",
         "type": "float"
        }
       ],
       "ref": "859bcc1c-a22b-4729-a76a-a34e31e8cb1c",
       "rows": [
        [
         "count",
         "891.0",
         "891.0"
        ],
        [
         "mean",
         "60.91806958473625",
         "2.909090909090909"
        ],
        [
         "std",
         "31.965870477283005",
         "1.3498382606551418"
        ],
        [
         "min",
         "12.0",
         "1.0"
        ],
        [
         "25%",
         "39.0",
         "2.0"
        ],
        [
         "50%",
         "59.0",
         "3.0"
        ],
        [
         "75%",
         "81.0",
         "4.0"
        ],
        [
         "max",
         "678.0",
         "5.0"
        ]
       ],
       "shape": {
        "columns": 2,
        "rows": 8
       }
      },
      "text/html": [
       "<div>\n",
       "<style scoped>\n",
       "    .dataframe tbody tr th:only-of-type {\n",
       "        vertical-align: middle;\n",
       "    }\n",
       "\n",
       "    .dataframe tbody tr th {\n",
       "        vertical-align: top;\n",
       "    }\n",
       "\n",
       "    .dataframe thead th {\n",
       "        text-align: right;\n",
       "    }\n",
       "</style>\n",
       "<table border=\"1\" class=\"dataframe\">\n",
       "  <thead>\n",
       "    <tr style=\"text-align: right;\">\n",
       "      <th></th>\n",
       "      <th>amount</th>\n",
       "      <th>ratings</th>\n",
       "    </tr>\n",
       "  </thead>\n",
       "  <tbody>\n",
       "    <tr>\n",
       "      <th>count</th>\n",
       "      <td>891.00000</td>\n",
       "      <td>891.000000</td>\n",
       "    </tr>\n",
       "    <tr>\n",
       "      <th>mean</th>\n",
       "      <td>60.91807</td>\n",
       "      <td>2.909091</td>\n",
       "    </tr>\n",
       "    <tr>\n",
       "      <th>std</th>\n",
       "      <td>31.96587</td>\n",
       "      <td>1.349838</td>\n",
       "    </tr>\n",
       "    <tr>\n",
       "      <th>min</th>\n",
       "      <td>12.00000</td>\n",
       "      <td>1.000000</td>\n",
       "    </tr>\n",
       "    <tr>\n",
       "      <th>25%</th>\n",
       "      <td>39.00000</td>\n",
       "      <td>2.000000</td>\n",
       "    </tr>\n",
       "    <tr>\n",
       "      <th>50%</th>\n",
       "      <td>59.00000</td>\n",
       "      <td>3.000000</td>\n",
       "    </tr>\n",
       "    <tr>\n",
       "      <th>75%</th>\n",
       "      <td>81.00000</td>\n",
       "      <td>4.000000</td>\n",
       "    </tr>\n",
       "    <tr>\n",
       "      <th>max</th>\n",
       "      <td>678.00000</td>\n",
       "      <td>5.000000</td>\n",
       "    </tr>\n",
       "  </tbody>\n",
       "</table>\n",
       "</div>"
      ],
      "text/plain": [
       "          amount     ratings\n",
       "count  891.00000  891.000000\n",
       "mean    60.91807    2.909091\n",
       "std     31.96587    1.349838\n",
       "min     12.00000    1.000000\n",
       "25%     39.00000    2.000000\n",
       "50%     59.00000    3.000000\n",
       "75%     81.00000    4.000000\n",
       "max    678.00000    5.000000"
      ]
     },
     "execution_count": 13,
     "metadata": {},
     "output_type": "execute_result"
    }
   ],
   "source": [
    "df.describe()"
   ]
  },
  {
   "cell_type": "code",
   "execution_count": 14,
   "id": "32c492f4",
   "metadata": {},
   "outputs": [
    {
     "name": "stdout",
     "output_type": "stream",
     "text": [
      "<class 'pandas.core.frame.DataFrame'>\n",
      "RangeIndex: 891 entries, 0 to 890\n",
      "Data columns (total 11 columns):\n",
      " #   Column       Non-Null Count  Dtype \n",
      "---  ------       --------------  ----- \n",
      " 0   Customer_id  891 non-null    object\n",
      " 1   date         891 non-null    object\n",
      " 2   time         891 non-null    object\n",
      " 3   order_id     891 non-null    object\n",
      " 4   items        891 non-null    object\n",
      " 5   amount       891 non-null    int64 \n",
      " 6   mode         891 non-null    object\n",
      " 7   restaurnt    891 non-null    object\n",
      " 8   Status       891 non-null    object\n",
      " 9   ratings      891 non-null    int64 \n",
      " 10  feedback     891 non-null    object\n",
      "dtypes: int64(2), object(9)\n",
      "memory usage: 76.7+ KB\n"
     ]
    }
   ],
   "source": [
    "df.info()"
   ]
  },
  {
   "cell_type": "code",
   "execution_count": 15,
   "id": "59606327",
   "metadata": {},
   "outputs": [],
   "source": [
    "def remove_last_column(item):\n",
    "    if item.endswith(':'):\n",
    "        return item[:-1]\n",
    "    return item\n",
    "\n",
    "def process_row(row):\n",
    "    # Split the row into columns based on commas\n",
    "    columns = row.split(',')\n",
    "    if len(columns) > 4:\n",
    "        columns[4] = remove_last_column(columns[4])\n",
    "    return ','.join(columns)\n",
    "\n",
    "def remove_special_characters(row):\n",
    "    columns = row.split(',')\n",
    "    ret = ''\n",
    "    for col in columns:\n",
    "        ret += re.sub(r'[^a-zA-Z0-9]', '', col) + ','\n",
    "    return ret[:-1]\n",
    "\n",
    "def print_row(row):\n",
    "    print(row)\n"
   ]
  },
  {
   "cell_type": "code",
   "execution_count": 16,
   "id": "ac2fb245",
   "metadata": {},
   "outputs": [
    {
     "data": {
      "text/plain": [
       "array(['Delivered', 'Not delivered', 'On Hold', 'Cancelled'], dtype=object)"
      ]
     },
     "execution_count": 16,
     "metadata": {},
     "output_type": "execute_result"
    }
   ],
   "source": [
    "df['Status'].unique()"
   ]
  },
  {
   "cell_type": "code",
   "execution_count": 18,
   "id": "3dbd1da2",
   "metadata": {},
   "outputs": [
    {
     "name": "stderr",
     "output_type": "stream",
     "text": [
      "WARNING:apache_beam.runners.interactive.interactive_environment:Dependencies required for Interactive Beam PCollection visualization are not available, please use: `pip install apache-beam[interactive]` to install necessary dependencies to enable all data visualization features.\n"
     ]
    },
    {
     "data": {
      "application/javascript": "\n        if (typeof window.interactive_beam_jquery == 'undefined') {\n          var jqueryScript = document.createElement('script');\n          jqueryScript.src = 'https://code.jquery.com/jquery-3.4.1.slim.min.js';\n          jqueryScript.type = 'text/javascript';\n          jqueryScript.onload = function() {\n            var datatableScript = document.createElement('script');\n            datatableScript.src = 'https://cdn.datatables.net/1.10.20/js/jquery.dataTables.min.js';\n            datatableScript.type = 'text/javascript';\n            datatableScript.onload = function() {\n              window.interactive_beam_jquery = jQuery.noConflict(true);\n              window.interactive_beam_jquery(document).ready(function($){\n                \n              });\n            }\n            document.head.appendChild(datatableScript);\n          };\n          document.head.appendChild(jqueryScript);\n        } else {\n          window.interactive_beam_jquery(document).ready(function($){\n            \n          });\n        }"
     },
     "metadata": {},
     "output_type": "display_data"
    }
   ],
   "source": [
    "input_file = 'food_daily.csv'\n",
    "output_path = 'outputs/processed'\n",
    "\n",
    "with beam.Pipeline() as p:\n",
    "    cleaned_data = (\n",
    "        p\n",
    "        | 'Read Input file' >> beam.io.ReadFromText(input_file, skip_header_lines=1)\n",
    "        | 'Process Items Column' >> beam.Map(process_row)\n",
    "        | 'Convert to lowercase' >> beam.Map(lambda row: row.lower())\n",
    "        | 'Remove Special Characters' >> beam.Map(remove_special_characters)\n",
    "    )\n",
    "\n",
    "    delivered_orders = (\n",
    "        cleaned_data\n",
    "        | 'Filter delivered data' >> beam.Filter(lambda row: row and row.split(',')[8].lower() == 'delivered')\n",
    "        | 'WriteDelivered File' >> beam.io.WriteToText(output_path + '/delivered')\n",
    "    )\n",
    "    undelivered_orders = (\n",
    "        cleaned_data\n",
    "        | 'Filter undelivered data' >> beam.Filter(lambda row: row and row.split(',')[8].lower() != 'delivered')\n",
    "        | 'WriteUndelivered File' >> beam.io.WriteToText(output_path + '/undelivered')\n",
    "    )\n"
   ]
  }
 ],
 "metadata": {
  "kernelspec": {
   "display_name": "env",
   "language": "python",
   "name": "python3"
  },
  "language_info": {
   "codemirror_mode": {
    "name": "ipython",
    "version": 3
   },
   "file_extension": ".py",
   "mimetype": "text/x-python",
   "name": "python",
   "nbconvert_exporter": "python",
   "pygments_lexer": "ipython3",
   "version": "3.13.7"
  }
 },
 "nbformat": 4,
 "nbformat_minor": 5
}
